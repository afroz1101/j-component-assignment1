{
  "nbformat": 4,
  "nbformat_minor": 0,
  "metadata": {
    "colab": {
      "name": "Untitled4.ipynb",
      "provenance": [],
      "authorship_tag": "ABX9TyOdSDxtWC92tQUglO/59wXn",
      "include_colab_link": true
    },
    "kernelspec": {
      "name": "python3",
      "display_name": "Python 3"
    },
    "language_info": {
      "name": "python"
    }
  },
  "cells": [
    {
      "cell_type": "markdown",
      "metadata": {
        "id": "view-in-github",
        "colab_type": "text"
      },
      "source": [
        "<a href=\"https://colab.research.google.com/github/afroz1101/j-component-assignment1/blob/main/Untitled4.ipynb\" target=\"_parent\"><img src=\"https://colab.research.google.com/assets/colab-badge.svg\" alt=\"Open In Colab\"/></a>"
      ]
    },
    {
      "cell_type": "code",
      "execution_count": 1,
      "metadata": {
        "id": "7tPGJJ9JC43I"
      },
      "outputs": [],
      "source": [
        "import numpy as np"
      ]
    },
    {
      "cell_type": "code",
      "source": [
        "import pandas as pd"
      ],
      "metadata": {
        "id": "fFRW-Jb_DqFQ"
      },
      "execution_count": 2,
      "outputs": []
    },
    {
      "cell_type": "code",
      "source": [
        "from google.colab import drive\n",
        "drive.mount('/gdrive')"
      ],
      "metadata": {
        "colab": {
          "base_uri": "https://localhost:8080/"
        },
        "id": "n0l-QYpJDw-c",
        "outputId": "f7d0f66c-ac7a-4b2c-eb76-065e9a71565c"
      },
      "execution_count": 48,
      "outputs": [
        {
          "output_type": "stream",
          "name": "stdout",
          "text": [
            "Drive already mounted at /gdrive; to attempt to forcibly remount, call drive.mount(\"/gdrive\", force_remount=True).\n"
          ]
        }
      ]
    },
    {
      "cell_type": "code",
      "source": [
        "with open('/gdrive/My Drive/foo.txt', 'w') as f:\n",
        "  f.write('Hello Google Drive!')\n",
        "!cat '/gdrive/My Drive/foo.txt'"
      ],
      "metadata": {
        "id": "S2q8OU9ADw-d"
      },
      "execution_count": null,
      "outputs": []
    },
    {
      "cell_type": "code",
      "source": [
        "data=pd.read_csv('/content/Bias_correction_ucl.csv')"
      ],
      "metadata": {
        "id": "vsxF4W93EAk7"
      },
      "execution_count": 4,
      "outputs": []
    },
    {
      "cell_type": "code",
      "source": [
        "data=data.fillna(0)\n",
        "data.head()"
      ],
      "metadata": {
        "colab": {
          "base_uri": "https://localhost:8080/",
          "height": 330
        },
        "id": "fQiD6-qDEEH1",
        "outputId": "702cf9ae-2bff-40fd-a967-e2d32ecc4ede"
      },
      "execution_count": 54,
      "outputs": [
        {
          "output_type": "execute_result",
          "data": {
            "text/html": [
              "<div>\n",
              "<style scoped>\n",
              "    .dataframe tbody tr th:only-of-type {\n",
              "        vertical-align: middle;\n",
              "    }\n",
              "\n",
              "    .dataframe tbody tr th {\n",
              "        vertical-align: top;\n",
              "    }\n",
              "\n",
              "    .dataframe thead th {\n",
              "        text-align: right;\n",
              "    }\n",
              "</style>\n",
              "<table border=\"1\" class=\"dataframe\">\n",
              "  <thead>\n",
              "    <tr style=\"text-align: right;\">\n",
              "      <th></th>\n",
              "      <th>station</th>\n",
              "      <th>Date</th>\n",
              "      <th>Present_Tmax</th>\n",
              "      <th>Present_Tmin</th>\n",
              "      <th>LDAPS_RHmin</th>\n",
              "      <th>LDAPS_RHmax</th>\n",
              "      <th>LDAPS_Tmax_lapse</th>\n",
              "      <th>LDAPS_Tmin_lapse</th>\n",
              "      <th>LDAPS_WS</th>\n",
              "      <th>LDAPS_LH</th>\n",
              "      <th>LDAPS_CC1</th>\n",
              "      <th>LDAPS_CC2</th>\n",
              "      <th>LDAPS_CC3</th>\n",
              "      <th>LDAPS_CC4</th>\n",
              "      <th>LDAPS_PPT1</th>\n",
              "      <th>LDAPS_PPT2</th>\n",
              "      <th>LDAPS_PPT3</th>\n",
              "      <th>LDAPS_PPT4</th>\n",
              "      <th>lat</th>\n",
              "      <th>lon</th>\n",
              "      <th>DEM</th>\n",
              "      <th>Slope</th>\n",
              "      <th>Solar radiation</th>\n",
              "      <th>Next_Tmax</th>\n",
              "      <th>Next_Tmin</th>\n",
              "    </tr>\n",
              "  </thead>\n",
              "  <tbody>\n",
              "    <tr>\n",
              "      <th>0</th>\n",
              "      <td>1.0</td>\n",
              "      <td>2013-06-30</td>\n",
              "      <td>28.7</td>\n",
              "      <td>21.4</td>\n",
              "      <td>58.255688</td>\n",
              "      <td>91.116364</td>\n",
              "      <td>28.074101</td>\n",
              "      <td>23.006936</td>\n",
              "      <td>6.818887</td>\n",
              "      <td>69.451805</td>\n",
              "      <td>0.233947</td>\n",
              "      <td>0.203896</td>\n",
              "      <td>0.161697</td>\n",
              "      <td>0.130928</td>\n",
              "      <td>0.0</td>\n",
              "      <td>0.0</td>\n",
              "      <td>0.0</td>\n",
              "      <td>0.0</td>\n",
              "      <td>37.6046</td>\n",
              "      <td>126.991</td>\n",
              "      <td>212.3350</td>\n",
              "      <td>2.7850</td>\n",
              "      <td>5992.895996</td>\n",
              "      <td>29.1</td>\n",
              "      <td>21.2</td>\n",
              "    </tr>\n",
              "    <tr>\n",
              "      <th>1</th>\n",
              "      <td>2.0</td>\n",
              "      <td>2013-06-30</td>\n",
              "      <td>31.9</td>\n",
              "      <td>21.6</td>\n",
              "      <td>52.263397</td>\n",
              "      <td>90.604721</td>\n",
              "      <td>29.850689</td>\n",
              "      <td>24.035009</td>\n",
              "      <td>5.691890</td>\n",
              "      <td>51.937448</td>\n",
              "      <td>0.225508</td>\n",
              "      <td>0.251771</td>\n",
              "      <td>0.159444</td>\n",
              "      <td>0.127727</td>\n",
              "      <td>0.0</td>\n",
              "      <td>0.0</td>\n",
              "      <td>0.0</td>\n",
              "      <td>0.0</td>\n",
              "      <td>37.6046</td>\n",
              "      <td>127.032</td>\n",
              "      <td>44.7624</td>\n",
              "      <td>0.5141</td>\n",
              "      <td>5869.312500</td>\n",
              "      <td>30.5</td>\n",
              "      <td>22.5</td>\n",
              "    </tr>\n",
              "    <tr>\n",
              "      <th>2</th>\n",
              "      <td>3.0</td>\n",
              "      <td>2013-06-30</td>\n",
              "      <td>31.6</td>\n",
              "      <td>23.3</td>\n",
              "      <td>48.690479</td>\n",
              "      <td>83.973587</td>\n",
              "      <td>30.091292</td>\n",
              "      <td>24.565633</td>\n",
              "      <td>6.138224</td>\n",
              "      <td>20.573050</td>\n",
              "      <td>0.209344</td>\n",
              "      <td>0.257469</td>\n",
              "      <td>0.204091</td>\n",
              "      <td>0.142125</td>\n",
              "      <td>0.0</td>\n",
              "      <td>0.0</td>\n",
              "      <td>0.0</td>\n",
              "      <td>0.0</td>\n",
              "      <td>37.5776</td>\n",
              "      <td>127.058</td>\n",
              "      <td>33.3068</td>\n",
              "      <td>0.2661</td>\n",
              "      <td>5863.555664</td>\n",
              "      <td>31.1</td>\n",
              "      <td>23.9</td>\n",
              "    </tr>\n",
              "    <tr>\n",
              "      <th>3</th>\n",
              "      <td>4.0</td>\n",
              "      <td>2013-06-30</td>\n",
              "      <td>32.0</td>\n",
              "      <td>23.4</td>\n",
              "      <td>58.239788</td>\n",
              "      <td>96.483688</td>\n",
              "      <td>29.704629</td>\n",
              "      <td>23.326177</td>\n",
              "      <td>5.650050</td>\n",
              "      <td>65.727144</td>\n",
              "      <td>0.216372</td>\n",
              "      <td>0.226002</td>\n",
              "      <td>0.161157</td>\n",
              "      <td>0.134249</td>\n",
              "      <td>0.0</td>\n",
              "      <td>0.0</td>\n",
              "      <td>0.0</td>\n",
              "      <td>0.0</td>\n",
              "      <td>37.6450</td>\n",
              "      <td>127.022</td>\n",
              "      <td>45.7160</td>\n",
              "      <td>2.5348</td>\n",
              "      <td>5856.964844</td>\n",
              "      <td>31.7</td>\n",
              "      <td>24.3</td>\n",
              "    </tr>\n",
              "    <tr>\n",
              "      <th>4</th>\n",
              "      <td>5.0</td>\n",
              "      <td>2013-06-30</td>\n",
              "      <td>31.4</td>\n",
              "      <td>21.9</td>\n",
              "      <td>56.174095</td>\n",
              "      <td>90.155128</td>\n",
              "      <td>29.113934</td>\n",
              "      <td>23.486480</td>\n",
              "      <td>5.735004</td>\n",
              "      <td>107.965535</td>\n",
              "      <td>0.151407</td>\n",
              "      <td>0.249995</td>\n",
              "      <td>0.178892</td>\n",
              "      <td>0.170021</td>\n",
              "      <td>0.0</td>\n",
              "      <td>0.0</td>\n",
              "      <td>0.0</td>\n",
              "      <td>0.0</td>\n",
              "      <td>37.5507</td>\n",
              "      <td>127.135</td>\n",
              "      <td>35.0380</td>\n",
              "      <td>0.5055</td>\n",
              "      <td>5859.552246</td>\n",
              "      <td>31.2</td>\n",
              "      <td>22.5</td>\n",
              "    </tr>\n",
              "  </tbody>\n",
              "</table>\n",
              "</div>"
            ],
            "text/plain": [
              "   station        Date  Present_Tmax  ...  Solar radiation  Next_Tmax  Next_Tmin\n",
              "0      1.0  2013-06-30          28.7  ...      5992.895996       29.1       21.2\n",
              "1      2.0  2013-06-30          31.9  ...      5869.312500       30.5       22.5\n",
              "2      3.0  2013-06-30          31.6  ...      5863.555664       31.1       23.9\n",
              "3      4.0  2013-06-30          32.0  ...      5856.964844       31.7       24.3\n",
              "4      5.0  2013-06-30          31.4  ...      5859.552246       31.2       22.5\n",
              "\n",
              "[5 rows x 25 columns]"
            ]
          },
          "metadata": {},
          "execution_count": 54
        }
      ]
    },
    {
      "cell_type": "code",
      "source": [
        "y=data['Next_Tmin']\n",
        "y=y.fillna(0)"
      ],
      "metadata": {
        "id": "jhBkXKafEGYN"
      },
      "execution_count": 55,
      "outputs": []
    },
    {
      "cell_type": "code",
      "source": [
        "x1=data['station']\n",
        "x1=x1.fillna(0)"
      ],
      "metadata": {
        "id": "_Y01GqPpESF8"
      },
      "execution_count": 56,
      "outputs": []
    },
    {
      "cell_type": "code",
      "source": [
        "x2=data['Present_Tmax']\n",
        "x2=x2.fillna(0)"
      ],
      "metadata": {
        "id": "cwc0Mc7BEY6T"
      },
      "execution_count": 57,
      "outputs": []
    },
    {
      "cell_type": "code",
      "source": [
        "x3=data['Present_Tmin']\n",
        "x3=x3.fillna(0)"
      ],
      "metadata": {
        "id": "Ik1ko88SEfpl"
      },
      "execution_count": 58,
      "outputs": []
    },
    {
      "cell_type": "code",
      "source": [
        "x4=data['LDAPS_RHmin']\n",
        "x4=x4.fillna(0)"
      ],
      "metadata": {
        "id": "GyqVy0O2Ekeh"
      },
      "execution_count": 59,
      "outputs": []
    },
    {
      "cell_type": "code",
      "source": [
        "x5=data['LDAPS_RHmax']\n",
        "x5=x5.fillna(0)"
      ],
      "metadata": {
        "id": "C-bPn1H0Eqwe"
      },
      "execution_count": 60,
      "outputs": []
    },
    {
      "cell_type": "code",
      "source": [
        "x6=data['LDAPS_Tmax_lapse']\n",
        "x6=x6.fillna(0)"
      ],
      "metadata": {
        "id": "efpklUtyEvwj"
      },
      "execution_count": 61,
      "outputs": []
    },
    {
      "cell_type": "code",
      "source": [
        "x7=data['LDAPS_Tmin_lapse']\n",
        "x7=x7.fillna(0)"
      ],
      "metadata": {
        "id": "tKNUD3-cE1lg"
      },
      "execution_count": 62,
      "outputs": []
    },
    {
      "cell_type": "code",
      "source": [
        "x8=data['LDAPS_WS']\n",
        "x8=x8.fillna(0)"
      ],
      "metadata": {
        "id": "c69-iIBZE58-"
      },
      "execution_count": 63,
      "outputs": []
    },
    {
      "cell_type": "code",
      "source": [
        "x9=data['LDAPS_LH']\n",
        "x9=x9.fillna(0)"
      ],
      "metadata": {
        "id": "_ohpcbMXFDII"
      },
      "execution_count": 64,
      "outputs": []
    },
    {
      "cell_type": "code",
      "source": [
        "x10=data['LDAPS_CC1']\n",
        "x10=x10.fillna(0)"
      ],
      "metadata": {
        "id": "N8t1owPwFH2L"
      },
      "execution_count": 65,
      "outputs": []
    },
    {
      "cell_type": "code",
      "source": [
        "x11=data['LDAPS_CC2']\n",
        "x11=x11.fillna(0)"
      ],
      "metadata": {
        "id": "mxV4D0NLFM1I"
      },
      "execution_count": 66,
      "outputs": []
    },
    {
      "cell_type": "code",
      "source": [
        "x12=data['LDAPS_CC3']\n",
        "x12=x12.fillna(0)"
      ],
      "metadata": {
        "id": "5jrP__XBFR3K"
      },
      "execution_count": 67,
      "outputs": []
    },
    {
      "cell_type": "code",
      "source": [
        "x13=data['LDAPS_CC4']\n",
        "x13=x13.fillna(0)"
      ],
      "metadata": {
        "id": "ZvmCKyKrFXRA"
      },
      "execution_count": 69,
      "outputs": []
    },
    {
      "cell_type": "code",
      "source": [
        "x14=data['LDAPS_PPT1']\n",
        "x14=x14.fillna(0)"
      ],
      "metadata": {
        "id": "iORfOVW1FdOf"
      },
      "execution_count": 70,
      "outputs": []
    },
    {
      "cell_type": "code",
      "source": [
        "x15=data['LDAPS_PPT2']\n",
        "x15=x15.fillna(0)"
      ],
      "metadata": {
        "id": "Xu5kYiX-FiCv"
      },
      "execution_count": 71,
      "outputs": []
    },
    {
      "cell_type": "code",
      "source": [
        "x16=data['LDAPS_PPT3']\n",
        "x16=x16.fillna(0)"
      ],
      "metadata": {
        "id": "iyX_gtgFFo_i"
      },
      "execution_count": 72,
      "outputs": []
    },
    {
      "cell_type": "code",
      "source": [
        "x17=data['LDAPS_PPT4']\n",
        "x17=x17.fillna(0)"
      ],
      "metadata": {
        "id": "QaNxba4PFtVL"
      },
      "execution_count": 73,
      "outputs": []
    },
    {
      "cell_type": "code",
      "source": [
        "x18=data['lat']\n",
        "x18=x18.fillna(0)"
      ],
      "metadata": {
        "id": "KuLd7EUoFt3i"
      },
      "execution_count": 74,
      "outputs": []
    },
    {
      "cell_type": "code",
      "source": [
        "x19=data['lon']\n",
        "x19=x19.fillna(0)"
      ],
      "metadata": {
        "id": "kX5lTcXUFu6N"
      },
      "execution_count": 75,
      "outputs": []
    },
    {
      "cell_type": "code",
      "source": [
        "x20=data['DEM']\n",
        "x20=x20.fillna(0)"
      ],
      "metadata": {
        "id": "9R8T1PiIFvSA"
      },
      "execution_count": 76,
      "outputs": []
    },
    {
      "cell_type": "code",
      "source": [
        "x21=data['Slope']\n",
        "x21=x21.fillna(0)"
      ],
      "metadata": {
        "id": "CwBGvVkNFvmm"
      },
      "execution_count": 77,
      "outputs": []
    },
    {
      "cell_type": "code",
      "source": [
        "x22=data['Solar radiation']\n",
        "x22=x22.fillna(0)"
      ],
      "metadata": {
        "id": "1RKLHYPpFv6G"
      },
      "execution_count": 78,
      "outputs": []
    },
    {
      "cell_type": "code",
      "source": [
        "ymean=[]\n",
        "def linear(b0,b1,b2,b3,b4,b5,b6,b7,b8,b9,b10,b11,b12,b13,b14,b15,b16,b17,b18,b19,b20,b21,b22):\n",
        "  sum=0;\n",
        "  ybar=[]\n",
        "  ypp=[]\n",
        "  for i in range(0,len(x2)):\n",
        "    ybar.append(b0+b1*int(x1[i])+b2*int(x2[i])+b3*int(x3[i])+b4*int(x4[i])+b5*int(x5[i])+b6*int(x6[i])+b7*int(x7[i])+b8*int(x8[i])+b9*int(x9[i])+b10*int(x10[i])+b11*int(x11[i])+b12*int(x12[i])+b13*int(x13[i])+b14*int(x14[i])+b15*int(x15[i])+b16*int(x16[i])+b17*int(x17[i])+b18*int(x18[i])+b19*int(x19[i])+b20*int(x20[i])+b21*int(x21[i])+b22*int(x22[i]))\n",
        "  for i in range(0,len(x2)):\n",
        "    ypp.append((y[i]-ybar[i])**2)\n",
        "  for i in range(0,len(x2)):\n",
        "    sum=sum+ypp[i]\n",
        "  ymean.append(sum/len(x2))\n",
        "for i in range(0,100):\n",
        "  linear(i,i+1,i+2,i+3,i+4,i+5,i+6,i+7,i+8,i+9,i+10,i+11,i+12,i+13,i+14,i+15,i+16,i+17,i+18,i+19,i+20,i+21,i+22)"
      ],
      "metadata": {
        "id": "8ElvzHitGX7b"
      },
      "execution_count": 79,
      "outputs": []
    },
    {
      "cell_type": "code",
      "source": [
        "print(ymean)"
      ],
      "metadata": {
        "colab": {
          "base_uri": "https://localhost:8080/"
        },
        "id": "spOU2rEeH2zs",
        "outputId": "df53527e-82d2-426f-ebcf-96a419d70302"
      },
      "execution_count": 80,
      "outputs": [
        {
          "output_type": "stream",
          "name": "stdout",
          "text": [
            "[15355822712.668089, 16856098553.602306, 18426290379.209713, 20066398189.490288, 21776421984.44388, 23556361764.070652, 25406217528.37057, 27325989277.34349, 29315677010.9896, 31375280729.308697, 33504800432.301147, 35704236119.96672, 37973587792.305275, 40312855449.31695, 42722039091.001465, 45201138717.35962, 47750154328.39071, 50369085924.09495, 53057933504.472046, 55816697069.52241, 58645376619.24613, 61543972153.64258, 64512483672.712364, 67550911176.45515, 70659254664.8711, 73837514137.96027, 77085689595.72255, 80403781038.15749, 83791788465.26582, 87249711877.0475, 90777551273.50247, 94375306654.63048, 98042978020.43063, 101780565370.9048, 105588068706.05199, 109465488025.87227, 113412823330.3664, 117430074619.53258, 121517241893.37164, 125674325151.88416, 129901324395.07027, 134198239622.92995, 138565070835.46182, 143001818032.66626, 147508481214.54446, 152085060381.09653, 156731555532.32138, 161447966668.21893, 166234293788.7896, 171090536894.0329, 176016695983.94986, 181012771058.54065, 186078762117.8041, 191214669161.73996, 196420492190.34958, 201696231203.63168, 207041886201.58765, 212457457184.2167, 217942944151.5179, 223498347103.49393, 229123666040.14102, 234818900961.46292, 240584051867.4576, 246419118758.1243, 252324101633.46597, 258299000493.47894, 264343815338.16583, 270458546167.5266, 276643192981.5588, 282897755780.26587, 289222234563.6442, 295616629331.69745, 302080940084.4236, 308615166821.8211, 315219309543.8938, 321893368250.6372, 328637342942.0554, 335451233618.14856, 342335040278.9109, 349288762924.34955, 356312401554.4584, 363405956169.2414, 370569426768.7007, 377802813352.82947, 385106115921.6314, 392479334475.10754, 399922469013.2556, 407435519536.0807, 415018486043.57635, 422671368535.74243, 430394167012.5844, 438186881474.09796, 446049511920.2891, 453982058351.15106, 461984520766.68134, 470056899166.88965, 478199193551.76825, 486411403921.32434, 494693530275.5529, 503045572614.4487]\n"
          ]
        }
      ]
    },
    {
      "cell_type": "code",
      "source": [
        "c=0\n",
        "if(ymean[0]<ymean[1]):\n",
        "  result=ymean[0]\n",
        "else:\n",
        "  result=ymean[1]\n",
        "for i in range(0,len(ymean)):\n",
        "  if(result>ymean[i]):\n",
        "    result=ymen[i]\n",
        "    c=i\n",
        "print(\"the less mean square error is\",result)"
      ],
      "metadata": {
        "colab": {
          "base_uri": "https://localhost:8080/"
        },
        "id": "-ZviLa2DNhU9",
        "outputId": "1b869cda-b756-45d4-e058-947f250e900c"
      },
      "execution_count": 82,
      "outputs": [
        {
          "output_type": "stream",
          "name": "stdout",
          "text": [
            "the less mean square error is 15355822712.668089\n"
          ]
        }
      ]
    },
    {
      "cell_type": "code",
      "source": [
        "print(\"the best beeta values for equation which has less mean square error is:\")\n",
        "print(c,c+1,c+2,c+3,c+4,c+5,c+6,c+7,c+8,c+9,c+10,c+11,c+12,c+13,c+14,c+15,c+16,c+17,c+18,c+19,c+20,c+21,c+22)\n",
        "print(\"the equation for given x values which has less mean square error is:\")\n",
        "def linear(b0,b1,b2,b3,b4,b5,b6,b7,b8,b9,b10,b11,b12,b13,b14,b15,b16,b17,b18,b19,b20,b21,b22):\n",
        "  print('Ypp','=',b0,'+',b1,'+',b2,'x2','+',b3,'x3','+',b4,'x4','+',b5,'x5','+',b6,'x6','+',b7,'x7','+',b8,'x8','+',b9,'x9','+',b10,'x10','+',b11,'x11','+',b12,'x12','+',b13,'x13','+',b14,'x14',b15,'x15','+',b16,'x16','+',b17,'x17','+',b18,'x18','+',b19,'x19','+',b20,'x20','+',b21,'x21','+',b22,'x22')\n",
        "linear(c,c+1,c+2,c+3,c+4,c+5,c+6,c+7,c+8,c+9,c+10,c+11,c+12,c+13,c+14,c+15,c+16,c+17,c+18,c+19,c+20,c+21,c+22)"
      ],
      "metadata": {
        "colab": {
          "base_uri": "https://localhost:8080/"
        },
        "id": "9IAKngZmNtzt",
        "outputId": "41d33021-290f-460c-c5fb-05acb4c4bc2e"
      },
      "execution_count": 86,
      "outputs": [
        {
          "output_type": "stream",
          "name": "stdout",
          "text": [
            "the best beeta values for equation which has less mean square error is:\n",
            "0 1 2 3 4 5 6 7 8 9 10 11 12 13 14 15 16 17 18 19 20 21 22\n",
            "the equation for given x values which has less mean square error is:\n",
            "Ypp = 0 + 1 + 2 x2 + 3 x3 + 4 x4 + 5 x5 + 6 x6 + 7 x7 + 8 x8 + 9 x9 + 10 x10 + 11 x11 + 12 x12 + 13 x13 + 14 x14 15 x15 + 16 x16 + 17 x17 + 18 x18 + 19 x19 + 20 x20 + 21 x21 + 22 x22\n"
          ]
        }
      ]
    }
  ]
}